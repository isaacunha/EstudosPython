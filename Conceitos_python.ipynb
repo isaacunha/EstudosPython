{
  "nbformat": 4,
  "nbformat_minor": 0,
  "metadata": {
    "colab": {
      "name": "Conceitos_python.ipynb",
      "provenance": [],
      "toc_visible": true,
      "authorship_tag": "ABX9TyP4Xxb12RBNb2DmPfEDj6Q8"
    },
    "kernelspec": {
      "name": "python3",
      "display_name": "Python 3"
    },
    "language_info": {
      "name": "python"
    }
  },
  "cells": [
    {
      "cell_type": "markdown",
      "source": [
        "# Introdução"
      ],
      "metadata": {
        "id": "7BXO7sYFKNLv"
      }
    },
    {
      "cell_type": "markdown",
      "source": [
        "**Introdução**\n"
      ],
      "metadata": {
        "id": "PIKZY3PdJyZz"
      }
    },
    {
      "cell_type": "code",
      "execution_count": null,
      "metadata": {
        "id": "87ybjCMrJT2b"
      },
      "outputs": [],
      "source": [
        "print (\"olá mundo\")"
      ]
    },
    {
      "cell_type": "code",
      "source": [
        "mensagem = \"olá mundo\""
      ],
      "metadata": {
        "id": "jJF9NvuzKOMT"
      },
      "execution_count": null,
      "outputs": []
    },
    {
      "cell_type": "code",
      "source": [
        "mensagem"
      ],
      "metadata": {
        "id": "qLbI_9zbKfFQ"
      },
      "execution_count": null,
      "outputs": []
    },
    {
      "cell_type": "code",
      "source": [
        "nome = input (\"Qual o seu nome?\")\n",
        "nome"
      ],
      "metadata": {
        "id": "bLm7wB4xKm7r"
      },
      "execution_count": null,
      "outputs": []
    },
    {
      "cell_type": "code",
      "source": [
        "horas = input(\"Quantas horas voce dormiu hoje?\")\n",
        "print (\"Eu dormi:\", horas, \"horas\")"
      ],
      "metadata": {
        "id": "l_LG62HJK8nL"
      },
      "execution_count": null,
      "outputs": []
    },
    {
      "cell_type": "markdown",
      "source": [
        "# Operadores matemáticos"
      ],
      "metadata": {
        "id": "IL54kVZpL-Yd"
      }
    },
    {
      "cell_type": "code",
      "source": [
        "n1 = 5\n",
        "n2 = 2\n",
        "s = n1 + n2\n",
        "print (s)"
      ],
      "metadata": {
        "id": "9cS2Z35nMCpI"
      },
      "execution_count": null,
      "outputs": []
    },
    {
      "cell_type": "code",
      "source": [
        "s = s + n1\n",
        "print (s)\n",
        "\n",
        "s += n1\n",
        "print (s)"
      ],
      "metadata": {
        "id": "gH96151DMLvj"
      },
      "execution_count": null,
      "outputs": []
    },
    {
      "cell_type": "code",
      "source": [
        "sub = n1 - n2\n",
        "print (\"A subtração entre\", n1, \"e\", n2, \"é\", sub)\n",
        "\n",
        "mult = n1*n2\n",
        "print (\"A multiplicação entre\", n1, \"e\", n2, \"é\", mult)\n",
        "\n",
        "div = n1/n2\n",
        "print (\"A divisão entre\", n1, \"e\", n2, \"é\", div)\n",
        "\n",
        "pot = n1**n2\n",
        "print (n1, \"elevado a\", n2, \"é\", pot)\n",
        "\n",
        "pot2 = pow(n1,n2)\n",
        "print (n1, \"elevado a\", n2, \"é\", pot2)\n",
        "\n",
        "divisaoInteira = n1//n2\n",
        "print (\"A divisão inteira entre\", n1, \"e\", n2, \"é\", divisaoInteira)\n",
        "\n",
        "divisaoResto = n1 % n2\n",
        "print (\"O resto da divisão entre\", n1, \"e\", n2, \"é\", divisaoResto)"
      ],
      "metadata": {
        "id": "NoxyhSSlMaMd"
      },
      "execution_count": null,
      "outputs": []
    },
    {
      "cell_type": "markdown",
      "source": [
        "# Importaçoes de biblioteca"
      ],
      "metadata": {
        "id": "Zq-3W4-5Q61i"
      }
    },
    {
      "cell_type": "code",
      "source": [
        "import math"
      ],
      "metadata": {
        "id": "lqWSNP6iRD9D"
      },
      "execution_count": null,
      "outputs": []
    },
    {
      "cell_type": "code",
      "source": [
        "n = 18\n",
        "raiz = math.sqrt(n)\n",
        "print (\"A raiz de {} é {:.2f}\". format(n, raiz))\n",
        "print (raiz)"
      ],
      "metadata": {
        "id": "8u2YnQ-iRIXp"
      },
      "execution_count": null,
      "outputs": []
    },
    {
      "cell_type": "code",
      "source": [
        "raiz2 = n**0.5\n",
        "print(raiz2)\n",
        "print (\"{:.3f}\".format(raiz2))"
      ],
      "metadata": {
        "id": "3w70D0c8WFbQ"
      },
      "execution_count": null,
      "outputs": []
    },
    {
      "cell_type": "code",
      "source": [
        "from math import sqrt\n",
        "raiz3 =  sqrt(4)\n",
        "print(raiz3)"
      ],
      "metadata": {
        "id": "OlaSvlNwWiiY"
      },
      "execution_count": null,
      "outputs": []
    },
    {
      "cell_type": "code",
      "source": [
        "from math import sqrt, factorial\n",
        "# Fatorial 5! = 5*4*3*2*1 = 120\n",
        "\n",
        "fat = factorial(5)\n",
        "print (\"Fatorial de {} é \",fat)\n",
        "\n",
        "fatorial_raiz = factorial(sqrt(16))\n",
        "print(fatorial_raiz)\n"
      ],
      "metadata": {
        "id": "9eRMRkBRWySS"
      },
      "execution_count": null,
      "outputs": []
    },
    {
      "cell_type": "code",
      "source": [
        "import random\n",
        "num = random.randint (1,100)\n",
        "print (num)"
      ],
      "metadata": {
        "id": "rFBizhvJXe5Z"
      },
      "execution_count": null,
      "outputs": []
    },
    {
      "cell_type": "code",
      "source": [
        "from random import random, randint\n",
        "#Para saber o que faz é colocar \"random?\"\n"
      ],
      "metadata": {
        "id": "HLjz71u0X75d"
      },
      "execution_count": null,
      "outputs": []
    },
    {
      "cell_type": "code",
      "source": [
        "random.gauss?"
      ],
      "metadata": {
        "id": "vpd8tXX4YSps"
      },
      "execution_count": null,
      "outputs": []
    },
    {
      "cell_type": "markdown",
      "source": [
        "# Estrutura Condicional"
      ],
      "metadata": {
        "id": "WSTAbmeX79O-"
      }
    },
    {
      "cell_type": "code",
      "source": [
        "nota = 2\n",
        "\n",
        "if nota >= 6:\n",
        "  print ('Aprovado!')\n",
        "else:\n",
        "  print(\"Reprovado\")"
      ],
      "metadata": {
        "id": "2zHcHlWl8DA0"
      },
      "execution_count": null,
      "outputs": []
    },
    {
      "cell_type": "code",
      "source": [
        "if nota >= 6:\n",
        "  print('Aprovado')\n",
        "elif nota >= 5 and nota < 6:\n",
        "  print (\"Recuperacao\")\n",
        "else:\n",
        "  print('Reprovado')"
      ],
      "metadata": {
        "id": "bjieluzY8YH5"
      },
      "execution_count": null,
      "outputs": []
    },
    {
      "cell_type": "markdown",
      "source": [
        "# Estrutura de Repetição"
      ],
      "metadata": {
        "id": "mKwi-uwJ86q7"
      }
    },
    {
      "cell_type": "code",
      "source": [
        "for c in range(0,4):\n",
        "  print (c)"
      ],
      "metadata": {
        "id": "iwlPgy28-DVu"
      },
      "execution_count": null,
      "outputs": []
    }
  ]
}