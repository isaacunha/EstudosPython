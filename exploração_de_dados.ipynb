{
  "nbformat": 4,
  "nbformat_minor": 0,
  "metadata": {
    "colab": {
      "name": "exploração_de_dados.ipynb",
      "provenance": [],
      "toc_visible": true,
      "mount_file_id": "1khHt45BqeIq5IXh-TPOKWroNlAXN7Zhh",
      "authorship_tag": "ABX9TyNKilA/lMW+E5TGzk0+pM7v",
      "include_colab_link": true
    },
    "kernelspec": {
      "name": "python3",
      "display_name": "Python 3"
    },
    "language_info": {
      "name": "python"
    }
  },
  "cells": [
    {
      "cell_type": "markdown",
      "metadata": {
        "id": "view-in-github",
        "colab_type": "text"
      },
      "source": [
        "<a href=\"https://colab.research.google.com/github/isaacunha/EstudosPython/blob/main/explora%C3%A7%C3%A3o_de_dados.ipynb\" target=\"_parent\"><img src=\"https://colab.research.google.com/assets/colab-badge.svg\" alt=\"Open In Colab\"/></a>"
      ]
    },
    {
      "cell_type": "markdown",
      "source": [
        ""
      ],
      "metadata": {
        "id": "19ufY7CeorFS"
      }
    },
    {
      "cell_type": "markdown",
      "source": [
        ""
      ],
      "metadata": {
        "id": "HKeMuc5YotIU"
      }
    },
    {
      "cell_type": "markdown",
      "source": [
        "# Exploração, analise e tratamento dos dados: Projeto Previsão de doença cardiaca"
      ],
      "metadata": {
        "id": "ctKkDKsUotqj"
      }
    },
    {
      "cell_type": "markdown",
      "source": [
        "Objetivo: Algoritico de ML para prever a tendencia de uma pessoa desenvolver algum tipo de doança cardiaca com base em alguns fatores clinicos e laboratoriais de referencia. \n",
        "Dados: https://www.kaggle.com/datasets/fedesoriano/heart-failure-prediction"
      ],
      "metadata": {
        "id": "LT7EG-C6o1xC"
      }
    },
    {
      "cell_type": "code",
      "execution_count": null,
      "metadata": {
        "id": "rZdJfw7qjo18"
      },
      "outputs": [],
      "source": [
        "import numpy as np\n",
        "import pandas as pd #manupular dados"
      ]
    },
    {
      "cell_type": "code",
      "source": [
        "dados = pd.read_csv('/content/drive/MyDrive/MLwithPython/heart.csv', #caminho do arquivo\n",
        "                    sep=\",\", encoding='iso-8859-1') #configuração pra abrir como tabela"
      ],
      "metadata": {
        "id": "0V4FjDyDqO6T"
      },
      "execution_count": null,
      "outputs": []
    },
    {
      "cell_type": "markdown",
      "source": [
        "# Exploração de dados"
      ],
      "metadata": {
        "id": "FrbB9yjQrk29"
      }
    },
    {
      "cell_type": "code",
      "source": [
        "dados.head() #5 primeiros registros"
      ],
      "metadata": {
        "id": "p_pgjzTnrnsS"
      },
      "execution_count": null,
      "outputs": []
    },
    {
      "cell_type": "code",
      "source": [
        "dados.tail() #5 ultimos registros"
      ],
      "metadata": {
        "id": "RO8TwN0Yr4r5"
      },
      "execution_count": null,
      "outputs": []
    },
    {
      "cell_type": "code",
      "source": [
        "dados.shape #quantidade de linhas e colunas"
      ],
      "metadata": {
        "id": "cq8qszaDr-Mp"
      },
      "execution_count": null,
      "outputs": []
    }
  ]
}