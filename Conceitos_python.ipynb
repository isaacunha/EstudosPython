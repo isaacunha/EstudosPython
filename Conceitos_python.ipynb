{
  "nbformat": 4,
  "nbformat_minor": 0,
  "metadata": {
    "colab": {
      "name": "Conceitos_python.ipynb",
      "provenance": [],
      "toc_visible": true,
      "collapsed_sections": [
        "mKwi-uwJ86q7"
      ],
      "authorship_tag": "ABX9TyNCzc+GoXn4LfrXh91JtCsE",
      "include_colab_link": true
    },
    "kernelspec": {
      "name": "python3",
      "display_name": "Python 3"
    },
    "language_info": {
      "name": "python"
    }
  },
  "cells": [
    {
      "cell_type": "markdown",
      "metadata": {
        "id": "view-in-github",
        "colab_type": "text"
      },
      "source": [
        "<a href=\"https://colab.research.google.com/github/isaacunha/EstudosPython/blob/main/Conceitos_python.ipynb\" target=\"_parent\"><img src=\"https://colab.research.google.com/assets/colab-badge.svg\" alt=\"Open In Colab\"/></a>"
      ]
    },
    {
      "cell_type": "markdown",
      "source": [
        "# Introdução"
      ],
      "metadata": {
        "id": "7BXO7sYFKNLv"
      }
    },
    {
      "cell_type": "markdown",
      "source": [
        "**Introdução**\n"
      ],
      "metadata": {
        "id": "PIKZY3PdJyZz"
      }
    },
    {
      "cell_type": "code",
      "execution_count": null,
      "metadata": {
        "id": "87ybjCMrJT2b"
      },
      "outputs": [],
      "source": [
        "print (\"olá mundo\")"
      ]
    },
    {
      "cell_type": "code",
      "source": [
        "mensagem = \"olá mundo\""
      ],
      "metadata": {
        "id": "jJF9NvuzKOMT"
      },
      "execution_count": null,
      "outputs": []
    },
    {
      "cell_type": "code",
      "source": [
        "mensagem"
      ],
      "metadata": {
        "id": "qLbI_9zbKfFQ"
      },
      "execution_count": null,
      "outputs": []
    },
    {
      "cell_type": "code",
      "source": [
        "nome = input (\"Qual o seu nome?\")\n",
        "nome"
      ],
      "metadata": {
        "id": "bLm7wB4xKm7r"
      },
      "execution_count": null,
      "outputs": []
    },
    {
      "cell_type": "code",
      "source": [
        "horas = input(\"Quantas horas voce dormiu hoje?\")\n",
        "print (\"Eu dormi:\", horas, \"horas\")"
      ],
      "metadata": {
        "id": "l_LG62HJK8nL"
      },
      "execution_count": null,
      "outputs": []
    },
    {
      "cell_type": "markdown",
      "source": [
        "# Operadores matemáticos"
      ],
      "metadata": {
        "id": "IL54kVZpL-Yd"
      }
    },
    {
      "cell_type": "code",
      "source": [
        "n1 = 5\n",
        "n2 = 2\n",
        "s = n1 + n2\n",
        "print (s)"
      ],
      "metadata": {
        "id": "9cS2Z35nMCpI"
      },
      "execution_count": null,
      "outputs": []
    },
    {
      "cell_type": "code",
      "source": [
        "s = s + n1\n",
        "print (s)\n",
        "\n",
        "s += n1\n",
        "print (s)"
      ],
      "metadata": {
        "id": "gH96151DMLvj"
      },
      "execution_count": null,
      "outputs": []
    },
    {
      "cell_type": "code",
      "source": [
        "sub = n1 - n2\n",
        "print (\"A subtração entre\", n1, \"e\", n2, \"é\", sub)\n",
        "\n",
        "mult = n1*n2\n",
        "print (\"A multiplicação entre\", n1, \"e\", n2, \"é\", mult)\n",
        "\n",
        "div = n1/n2\n",
        "print (\"A divisão entre\", n1, \"e\", n2, \"é\", div)\n",
        "\n",
        "pot = n1**n2\n",
        "print (n1, \"elevado a\", n2, \"é\", pot)\n",
        "\n",
        "pot2 = pow(n1,n2)\n",
        "print (n1, \"elevado a\", n2, \"é\", pot2)\n",
        "\n",
        "divisaoInteira = n1//n2\n",
        "print (\"A divisão inteira entre\", n1, \"e\", n2, \"é\", divisaoInteira)\n",
        "\n",
        "divisaoResto = n1 % n2\n",
        "print (\"O resto da divisão entre\", n1, \"e\", n2, \"é\", divisaoResto)"
      ],
      "metadata": {
        "id": "NoxyhSSlMaMd"
      },
      "execution_count": null,
      "outputs": []
    },
    {
      "cell_type": "markdown",
      "source": [
        "# Importaçoes de biblioteca"
      ],
      "metadata": {
        "id": "Zq-3W4-5Q61i"
      }
    },
    {
      "cell_type": "code",
      "source": [
        "import math"
      ],
      "metadata": {
        "id": "lqWSNP6iRD9D"
      },
      "execution_count": null,
      "outputs": []
    },
    {
      "cell_type": "code",
      "source": [
        "n = 18\n",
        "raiz = math.sqrt(n)\n",
        "print (\"A raiz de {} é {:.2f}\". format(n, raiz))\n",
        "print (raiz)"
      ],
      "metadata": {
        "id": "8u2YnQ-iRIXp"
      },
      "execution_count": null,
      "outputs": []
    },
    {
      "cell_type": "code",
      "source": [
        "raiz2 = n**0.5\n",
        "print(raiz2)\n",
        "print (\"{:.3f}\".format(raiz2))"
      ],
      "metadata": {
        "id": "3w70D0c8WFbQ"
      },
      "execution_count": null,
      "outputs": []
    },
    {
      "cell_type": "code",
      "source": [
        "from math import sqrt\n",
        "raiz3 =  sqrt(4)\n",
        "print(raiz3)"
      ],
      "metadata": {
        "id": "OlaSvlNwWiiY"
      },
      "execution_count": null,
      "outputs": []
    },
    {
      "cell_type": "code",
      "source": [
        "from math import sqrt, factorial\n",
        "# Fatorial 5! = 5*4*3*2*1 = 120\n",
        "\n",
        "fat = factorial(5)\n",
        "print (\"Fatorial de {} é \",fat)\n",
        "\n",
        "fatorial_raiz = factorial(sqrt(16))\n",
        "print(fatorial_raiz)\n"
      ],
      "metadata": {
        "id": "9eRMRkBRWySS"
      },
      "execution_count": null,
      "outputs": []
    },
    {
      "cell_type": "code",
      "source": [
        "import random\n",
        "num = random.randint (1,100)\n",
        "print (num)"
      ],
      "metadata": {
        "id": "rFBizhvJXe5Z"
      },
      "execution_count": null,
      "outputs": []
    },
    {
      "cell_type": "code",
      "source": [
        "from random import random, randint\n",
        "#Para saber o que faz é colocar \"random?\"\n"
      ],
      "metadata": {
        "id": "HLjz71u0X75d"
      },
      "execution_count": null,
      "outputs": []
    },
    {
      "cell_type": "code",
      "source": [
        "random.gauss?"
      ],
      "metadata": {
        "id": "vpd8tXX4YSps"
      },
      "execution_count": null,
      "outputs": []
    },
    {
      "cell_type": "markdown",
      "source": [
        "# Estrutura Condicional"
      ],
      "metadata": {
        "id": "WSTAbmeX79O-"
      }
    },
    {
      "cell_type": "code",
      "source": [
        "nota = 2\n",
        "\n",
        "if nota >= 6:\n",
        "  print ('Aprovado!')\n",
        "else:\n",
        "  print(\"Reprovado\")"
      ],
      "metadata": {
        "id": "2zHcHlWl8DA0"
      },
      "execution_count": null,
      "outputs": []
    },
    {
      "cell_type": "code",
      "source": [
        "if nota >= 6:\n",
        "  print('Aprovado')\n",
        "elif nota >= 5 and nota < 6:\n",
        "  print (\"Recuperacao\")\n",
        "else:\n",
        "  print('Reprovado')"
      ],
      "metadata": {
        "id": "bjieluzY8YH5"
      },
      "execution_count": null,
      "outputs": []
    },
    {
      "cell_type": "markdown",
      "source": [
        "# Estrutura de Repetição"
      ],
      "metadata": {
        "id": "mKwi-uwJ86q7"
      }
    },
    {
      "cell_type": "code",
      "source": [
        "for c in range(0,4):\n",
        "  print (c)"
      ],
      "metadata": {
        "id": "iwlPgy28-DVu"
      },
      "execution_count": null,
      "outputs": []
    },
    {
      "cell_type": "code",
      "source": [
        "lista = [1, 2, 3, 4, 5]\n",
        "for numero in lista:\n",
        "  mult = numero *2\n",
        "  print (mult)"
      ],
      "metadata": {
        "id": "NOsR3dNZ5lKG"
      },
      "execution_count": null,
      "outputs": []
    },
    {
      "cell_type": "code",
      "source": [
        "soma = 0\n",
        "cont = 0\n",
        "for c in range (1,6):\n",
        "  num = int (input ('digite o {}º valor: '. format(c)))\n",
        "  if (num % 2 ==0):\n",
        "    soma = soma + num\n",
        "    cont = cont +1\n",
        "print (\"voce informou {} numeros pares e a soma deles é igual {}\". format(cont, soma))"
      ],
      "metadata": {
        "id": "-ZTU8S-w7AJ1"
      },
      "execution_count": null,
      "outputs": []
    },
    {
      "cell_type": "code",
      "source": [
        "c = 1\n",
        "while c<10:\n",
        "  s=c+10\n",
        "  print(s)\n",
        "  c = c+1\n",
        "  print (c)\n",
        "print(\"fim\")\n"
      ],
      "metadata": {
        "id": "pK_qF6t88WIi"
      },
      "execution_count": null,
      "outputs": []
    },
    {
      "cell_type": "markdown",
      "source": [
        "# Lista, Tuplas e Dicionarios"
      ],
      "metadata": {
        "id": "O34uo4yh9yUd"
      }
    },
    {
      "cell_type": "code",
      "source": [
        "#Lista[]\n",
        "#Tuplas()\n",
        "#Diconarios{}"
      ],
      "metadata": {
        "id": "fzrkg17R934b"
      },
      "execution_count": null,
      "outputs": []
    },
    {
      "cell_type": "code",
      "source": [
        "num = [2, 3, 2, 6, 4]\n",
        "\n",
        "num[3] = 4\n",
        "\n",
        "print(num)\n"
      ],
      "metadata": {
        "id": "lr9RWo3u-Bgx"
      },
      "execution_count": null,
      "outputs": []
    },
    {
      "cell_type": "code",
      "source": [
        "num.append(8) #inclui o numero 8 a proxima posição\n",
        "num"
      ],
      "metadata": {
        "id": "CZctZWAH-gi7"
      },
      "execution_count": null,
      "outputs": []
    },
    {
      "cell_type": "code",
      "source": [
        "num.sort() #ordem crescente \n",
        "num"
      ],
      "metadata": {
        "id": "9c28Mvy1-oY0"
      },
      "execution_count": null,
      "outputs": []
    },
    {
      "cell_type": "code",
      "source": [
        "num.insert(2,0) #adiona o zero na posicao 2\n",
        "num"
      ],
      "metadata": {
        "id": "Ilgb4qpw_Uu5"
      },
      "execution_count": null,
      "outputs": []
    },
    {
      "cell_type": "code",
      "source": [
        "num.remove(4) #remove o numero 4 da lista\n",
        "num"
      ],
      "metadata": {
        "id": "o9gZnOCk_X-z"
      },
      "execution_count": null,
      "outputs": []
    },
    {
      "cell_type": "code",
      "source": [
        "num.pop(3) #remove o elemento na posicao 3\n",
        "num"
      ],
      "metadata": {
        "id": "A6Xw7jYg_q64"
      },
      "execution_count": null,
      "outputs": []
    },
    {
      "cell_type": "code",
      "source": [
        "#Tuplas são imutaveis, não da pra modificar igual a lista com delete, insert etc\n",
        "\n",
        "num2 = (2, 5, 7, 9)"
      ],
      "metadata": {
        "id": "Vgd8i3E7_vbX"
      },
      "execution_count": null,
      "outputs": []
    },
    {
      "cell_type": "code",
      "source": [
        "#Dicionarios\n",
        "\n",
        "pessoas = {'nome': 'Isabella', 'sexo': 'feminino', 'idade': 23}\n",
        "\n",
        "print (pessoas)\n",
        "\n"
      ],
      "metadata": {
        "id": "8wUjB6Wd_7KR"
      },
      "execution_count": null,
      "outputs": []
    },
    {
      "cell_type": "code",
      "source": [
        "pessoas['hobbie'] = 'ler'\n",
        "print (pessoas)"
      ],
      "metadata": {
        "id": "Drze65EwAWVo"
      },
      "execution_count": null,
      "outputs": []
    },
    {
      "cell_type": "code",
      "source": [
        "del pessoas ['idade']\n",
        "print(pessoas)"
      ],
      "metadata": {
        "id": "ZEeQRHdWAhsB"
      },
      "execution_count": null,
      "outputs": []
    },
    {
      "cell_type": "markdown",
      "source": [
        "# Funções"
      ],
      "metadata": {
        "id": "yTvtkZeJflOv"
      }
    },
    {
      "cell_type": "code",
      "source": [
        "def identificacao(nome,idade):\n",
        "  print ('Olá', nome, '\\nVoce é jovem, tem apenas', idade)"
      ],
      "metadata": {
        "id": "OC8ZIMoVfv6z"
      },
      "execution_count": null,
      "outputs": []
    },
    {
      "cell_type": "code",
      "source": [
        "identificacao('Isabella',23)"
      ],
      "metadata": {
        "id": "0fT9s4_7hM3A"
      },
      "execution_count": null,
      "outputs": []
    },
    {
      "cell_type": "code",
      "source": [
        "def maior (x,y):\n",
        "  if x<y:\n",
        "    print('O maior numero é ', y)\n",
        "  elif x>y:\n",
        "    print(\"o maior numero é:\", x)\n",
        "  else:\n",
        "    print(\"Os numeros são iguais\")"
      ],
      "metadata": {
        "id": "2RnaTTDkhTVl"
      },
      "execution_count": null,
      "outputs": []
    },
    {
      "cell_type": "code",
      "source": [
        "maior(26,26)"
      ],
      "metadata": {
        "id": "-J52pe4YiC3F"
      },
      "execution_count": null,
      "outputs": []
    },
    {
      "cell_type": "code",
      "source": [
        "def pitagoras (cat1, cat2, hip):\n",
        "  if hip ==\"?\":\n",
        "    hip = (cat1**2 + cat2**2)**(1/2)\n",
        "    print (\"A hipotenusa é\", cat1)\n",
        "  elif cat1 ==\"?\":\n",
        "    cat1 = (hip**2 - cat2**2)**(1/2)\n",
        "    print (\"O cateto é\", cat1)\n",
        "  elif cat2 ==\"?\":\n",
        "    cat2 = (hip**2 - cat1**2)**(1/2)\n",
        "    print (\"O cateto é\", cat2)"
      ],
      "metadata": {
        "id": "U6xSTaM5iFsn"
      },
      "execution_count": null,
      "outputs": []
    },
    {
      "cell_type": "code",
      "source": [
        "#pitagoras (cat1, cat2, hip)\n",
        "pitagoras(3,4,\"?\")"
      ],
      "metadata": {
        "id": "SVnpfa1PjAa6"
      },
      "execution_count": null,
      "outputs": []
    },
    {
      "cell_type": "markdown",
      "source": [
        "# Função lambda e map"
      ],
      "metadata": {
        "id": "gD49xhj-vxMh"
      }
    },
    {
      "cell_type": "code",
      "source": [
        "def area_quadrado (l):\n",
        "  area = l**2\n",
        "  print (\"Area do quadrado é\", area)"
      ],
      "metadata": {
        "id": "px5-NXpRv2Ac"
      },
      "execution_count": null,
      "outputs": []
    },
    {
      "cell_type": "code",
      "source": [
        "area_quadrado (5)"
      ],
      "metadata": {
        "id": "PZPaWPkJwAUT"
      },
      "execution_count": null,
      "outputs": []
    },
    {
      "cell_type": "code",
      "source": [
        "area_quadrado2 = lambda x: x**2"
      ],
      "metadata": {
        "id": "BUinFdsmwEam"
      },
      "execution_count": null,
      "outputs": []
    },
    {
      "cell_type": "code",
      "source": [
        "area_quadrado2(7)"
      ],
      "metadata": {
        "id": "qF9nADgEwJt0"
      },
      "execution_count": null,
      "outputs": []
    },
    {
      "cell_type": "code",
      "source": [
        "area_retangulo = lambda b,h: b*h "
      ],
      "metadata": {
        "id": "nAFloUbfwOsq"
      },
      "execution_count": null,
      "outputs": []
    },
    {
      "cell_type": "code",
      "source": [
        "area_retangulo(5,3)"
      ],
      "metadata": {
        "id": "wbFhK8SRwWtu"
      },
      "execution_count": null,
      "outputs": []
    },
    {
      "cell_type": "code",
      "source": [
        "#uma vantaggem é quando se utiliza juntamente com outros metodos\n",
        "#map faz essa junção\n",
        "\n",
        "L = [4,3,6,8,4,3,11,5]\n",
        "area = list(map(lambda x: x**2,L))\n",
        "print(area)"
      ],
      "metadata": {
        "id": "e_WO0bHIwaht"
      },
      "execution_count": null,
      "outputs": []
    }
  ]
}