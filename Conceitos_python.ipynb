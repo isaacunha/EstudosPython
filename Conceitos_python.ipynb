{
  "nbformat": 4,
  "nbformat_minor": 0,
  "metadata": {
    "colab": {
      "name": "Conceitos_python.ipynb",
      "provenance": [],
      "toc_visible": true,
      "collapsed_sections": [
        "mKwi-uwJ86q7"
      ],
      "authorship_tag": "ABX9TyP0ostYDtMwzWB7Tr2EkN7k",
      "include_colab_link": true
    },
    "kernelspec": {
      "name": "python3",
      "display_name": "Python 3"
    },
    "language_info": {
      "name": "python"
    }
  },
  "cells": [
    {
      "cell_type": "markdown",
      "metadata": {
        "id": "view-in-github",
        "colab_type": "text"
      },
      "source": [
        "<a href=\"https://colab.research.google.com/github/isaacunha/EstudosPython/blob/main/Conceitos_python.ipynb\" target=\"_parent\"><img src=\"https://colab.research.google.com/assets/colab-badge.svg\" alt=\"Open In Colab\"/></a>"
      ]
    },
    {
      "cell_type": "markdown",
      "source": [
        "# Introdução"
      ],
      "metadata": {
        "id": "7BXO7sYFKNLv"
      }
    },
    {
      "cell_type": "markdown",
      "source": [
        "**Introdução**\n"
      ],
      "metadata": {
        "id": "PIKZY3PdJyZz"
      }
    },
    {
      "cell_type": "code",
      "execution_count": null,
      "metadata": {
        "id": "87ybjCMrJT2b"
      },
      "outputs": [],
      "source": [
        "print (\"olá mundo\")"
      ]
    },
    {
      "cell_type": "code",
      "source": [
        "mensagem = \"olá mundo\""
      ],
      "metadata": {
        "id": "jJF9NvuzKOMT"
      },
      "execution_count": null,
      "outputs": []
    },
    {
      "cell_type": "code",
      "source": [
        "mensagem"
      ],
      "metadata": {
        "id": "qLbI_9zbKfFQ"
      },
      "execution_count": null,
      "outputs": []
    },
    {
      "cell_type": "code",
      "source": [
        "nome = input (\"Qual o seu nome?\")\n",
        "nome"
      ],
      "metadata": {
        "id": "bLm7wB4xKm7r"
      },
      "execution_count": null,
      "outputs": []
    },
    {
      "cell_type": "code",
      "source": [
        "horas = input(\"Quantas horas voce dormiu hoje?\")\n",
        "print (\"Eu dormi:\", horas, \"horas\")"
      ],
      "metadata": {
        "id": "l_LG62HJK8nL"
      },
      "execution_count": null,
      "outputs": []
    },
    {
      "cell_type": "markdown",
      "source": [
        "# Operadores matemáticos"
      ],
      "metadata": {
        "id": "IL54kVZpL-Yd"
      }
    },
    {
      "cell_type": "code",
      "source": [
        "n1 = 5\n",
        "n2 = 2\n",
        "s = n1 + n2\n",
        "print (s)"
      ],
      "metadata": {
        "id": "9cS2Z35nMCpI"
      },
      "execution_count": null,
      "outputs": []
    },
    {
      "cell_type": "code",
      "source": [
        "s = s + n1\n",
        "print (s)\n",
        "\n",
        "s += n1\n",
        "print (s)"
      ],
      "metadata": {
        "id": "gH96151DMLvj"
      },
      "execution_count": null,
      "outputs": []
    },
    {
      "cell_type": "code",
      "source": [
        "sub = n1 - n2\n",
        "print (\"A subtração entre\", n1, \"e\", n2, \"é\", sub)\n",
        "\n",
        "mult = n1*n2\n",
        "print (\"A multiplicação entre\", n1, \"e\", n2, \"é\", mult)\n",
        "\n",
        "div = n1/n2\n",
        "print (\"A divisão entre\", n1, \"e\", n2, \"é\", div)\n",
        "\n",
        "pot = n1**n2\n",
        "print (n1, \"elevado a\", n2, \"é\", pot)\n",
        "\n",
        "pot2 = pow(n1,n2)\n",
        "print (n1, \"elevado a\", n2, \"é\", pot2)\n",
        "\n",
        "divisaoInteira = n1//n2\n",
        "print (\"A divisão inteira entre\", n1, \"e\", n2, \"é\", divisaoInteira)\n",
        "\n",
        "divisaoResto = n1 % n2\n",
        "print (\"O resto da divisão entre\", n1, \"e\", n2, \"é\", divisaoResto)"
      ],
      "metadata": {
        "id": "NoxyhSSlMaMd"
      },
      "execution_count": null,
      "outputs": []
    },
    {
      "cell_type": "markdown",
      "source": [
        "# Importaçoes de biblioteca"
      ],
      "metadata": {
        "id": "Zq-3W4-5Q61i"
      }
    },
    {
      "cell_type": "code",
      "source": [
        "import math"
      ],
      "metadata": {
        "id": "lqWSNP6iRD9D"
      },
      "execution_count": null,
      "outputs": []
    },
    {
      "cell_type": "code",
      "source": [
        "n = 18\n",
        "raiz = math.sqrt(n)\n",
        "print (\"A raiz de {} é {:.2f}\". format(n, raiz))\n",
        "print (raiz)"
      ],
      "metadata": {
        "id": "8u2YnQ-iRIXp"
      },
      "execution_count": null,
      "outputs": []
    },
    {
      "cell_type": "code",
      "source": [
        "raiz2 = n**0.5\n",
        "print(raiz2)\n",
        "print (\"{:.3f}\".format(raiz2))"
      ],
      "metadata": {
        "id": "3w70D0c8WFbQ"
      },
      "execution_count": null,
      "outputs": []
    },
    {
      "cell_type": "code",
      "source": [
        "from math import sqrt\n",
        "raiz3 =  sqrt(4)\n",
        "print(raiz3)"
      ],
      "metadata": {
        "id": "OlaSvlNwWiiY"
      },
      "execution_count": null,
      "outputs": []
    },
    {
      "cell_type": "code",
      "source": [
        "from math import sqrt, factorial\n",
        "# Fatorial 5! = 5*4*3*2*1 = 120\n",
        "\n",
        "fat = factorial(5)\n",
        "print (\"Fatorial de {} é \",fat)\n",
        "\n",
        "fatorial_raiz = factorial(sqrt(16))\n",
        "print(fatorial_raiz)\n"
      ],
      "metadata": {
        "id": "9eRMRkBRWySS"
      },
      "execution_count": null,
      "outputs": []
    },
    {
      "cell_type": "code",
      "source": [
        "import random\n",
        "num = random.randint (1,100)\n",
        "print (num)"
      ],
      "metadata": {
        "id": "rFBizhvJXe5Z"
      },
      "execution_count": null,
      "outputs": []
    },
    {
      "cell_type": "code",
      "source": [
        "from random import random, randint\n",
        "#Para saber o que faz é colocar \"random?\"\n"
      ],
      "metadata": {
        "id": "HLjz71u0X75d"
      },
      "execution_count": null,
      "outputs": []
    },
    {
      "cell_type": "code",
      "source": [
        "random.gauss?"
      ],
      "metadata": {
        "id": "vpd8tXX4YSps"
      },
      "execution_count": null,
      "outputs": []
    },
    {
      "cell_type": "markdown",
      "source": [
        "# Estrutura Condicional"
      ],
      "metadata": {
        "id": "WSTAbmeX79O-"
      }
    },
    {
      "cell_type": "code",
      "source": [
        "nota = 2\n",
        "\n",
        "if nota >= 6:\n",
        "  print ('Aprovado!')\n",
        "else:\n",
        "  print(\"Reprovado\")"
      ],
      "metadata": {
        "id": "2zHcHlWl8DA0"
      },
      "execution_count": null,
      "outputs": []
    },
    {
      "cell_type": "code",
      "source": [
        "if nota >= 6:\n",
        "  print('Aprovado')\n",
        "elif nota >= 5 and nota < 6:\n",
        "  print (\"Recuperacao\")\n",
        "else:\n",
        "  print('Reprovado')"
      ],
      "metadata": {
        "id": "bjieluzY8YH5"
      },
      "execution_count": null,
      "outputs": []
    },
    {
      "cell_type": "markdown",
      "source": [
        "# Estrutura de Repetição"
      ],
      "metadata": {
        "id": "mKwi-uwJ86q7"
      }
    },
    {
      "cell_type": "code",
      "source": [
        "for c in range(0,4):\n",
        "  print (c)"
      ],
      "metadata": {
        "id": "iwlPgy28-DVu"
      },
      "execution_count": null,
      "outputs": []
    },
    {
      "cell_type": "code",
      "source": [
        "lista = [1, 2, 3, 4, 5]\n",
        "for numero in lista:\n",
        "  mult = numero *2\n",
        "  print (mult)"
      ],
      "metadata": {
        "id": "NOsR3dNZ5lKG"
      },
      "execution_count": null,
      "outputs": []
    },
    {
      "cell_type": "code",
      "source": [
        "soma = 0\n",
        "cont = 0\n",
        "for c in range (1,6):\n",
        "  num = int (input ('digite o {}º valor: '. format(c)))\n",
        "  if (num % 2 ==0):\n",
        "    soma = soma + num\n",
        "    cont = cont +1\n",
        "print (\"voce informou {} numeros pares e a soma deles é igual {}\". format(cont, soma))"
      ],
      "metadata": {
        "id": "-ZTU8S-w7AJ1"
      },
      "execution_count": null,
      "outputs": []
    },
    {
      "cell_type": "code",
      "source": [
        "c = 1\n",
        "while c<10:\n",
        "  s=c+10\n",
        "  print(s)\n",
        "  c = c+1\n",
        "  print (c)\n",
        "print(\"fim\")\n"
      ],
      "metadata": {
        "id": "pK_qF6t88WIi"
      },
      "execution_count": null,
      "outputs": []
    },
    {
      "cell_type": "markdown",
      "source": [
        "# Lista, Tuplas e Dicionarios"
      ],
      "metadata": {
        "id": "O34uo4yh9yUd"
      }
    },
    {
      "cell_type": "code",
      "source": [
        "#Lista[]\n",
        "#Tuplas()\n",
        "#Diconarios{}"
      ],
      "metadata": {
        "id": "fzrkg17R934b"
      },
      "execution_count": null,
      "outputs": []
    },
    {
      "cell_type": "code",
      "source": [
        "num = [2, 3, 2, 6, 4]\n",
        "\n",
        "num[3] = 4\n",
        "\n",
        "print(num)\n"
      ],
      "metadata": {
        "id": "lr9RWo3u-Bgx"
      },
      "execution_count": null,
      "outputs": []
    },
    {
      "cell_type": "code",
      "source": [
        "num.append(8) #inclui o numero 8 a proxima posição\n",
        "num"
      ],
      "metadata": {
        "id": "CZctZWAH-gi7"
      },
      "execution_count": null,
      "outputs": []
    },
    {
      "cell_type": "code",
      "source": [
        "num.sort() #ordem crescente \n",
        "num"
      ],
      "metadata": {
        "id": "9c28Mvy1-oY0"
      },
      "execution_count": null,
      "outputs": []
    },
    {
      "cell_type": "code",
      "source": [
        "num.insert(2,0) #adiona o zero na posicao 2\n",
        "num"
      ],
      "metadata": {
        "id": "Ilgb4qpw_Uu5"
      },
      "execution_count": null,
      "outputs": []
    },
    {
      "cell_type": "code",
      "source": [
        "num.remove(4) #remove o numero 4 da lista\n",
        "num"
      ],
      "metadata": {
        "id": "o9gZnOCk_X-z"
      },
      "execution_count": null,
      "outputs": []
    },
    {
      "cell_type": "code",
      "source": [
        "num.pop(3) #remove o elemento na posicao 3\n",
        "num"
      ],
      "metadata": {
        "id": "A6Xw7jYg_q64"
      },
      "execution_count": null,
      "outputs": []
    },
    {
      "cell_type": "code",
      "source": [
        "#Tuplas são imutaveis, não da pra modificar igual a lista com delete, insert etc\n",
        "\n",
        "num2 = (2, 5, 7, 9)"
      ],
      "metadata": {
        "id": "Vgd8i3E7_vbX"
      },
      "execution_count": null,
      "outputs": []
    },
    {
      "cell_type": "code",
      "source": [
        "#Dicionarios\n",
        "\n",
        "pessoas = {'nome': 'Isabella', 'sexo': 'feminino', 'idade': 23}\n",
        "\n",
        "print (pessoas)\n",
        "\n"
      ],
      "metadata": {
        "id": "8wUjB6Wd_7KR"
      },
      "execution_count": null,
      "outputs": []
    },
    {
      "cell_type": "code",
      "source": [
        "pessoas['hobbie'] = 'ler'\n",
        "print (pessoas)"
      ],
      "metadata": {
        "id": "Drze65EwAWVo"
      },
      "execution_count": null,
      "outputs": []
    },
    {
      "cell_type": "code",
      "source": [
        "del pessoas ['idade']\n",
        "print(pessoas)"
      ],
      "metadata": {
        "id": "ZEeQRHdWAhsB"
      },
      "execution_count": null,
      "outputs": []
    },
    {
      "cell_type": "markdown",
      "source": [
        "# Funções"
      ],
      "metadata": {
        "id": "yTvtkZeJflOv"
      }
    },
    {
      "cell_type": "code",
      "source": [
        "def identificacao(nome,idade):\n",
        "  print ('Olá', nome, '\\nVoce é jovem, tem apenas', idade)"
      ],
      "metadata": {
        "id": "OC8ZIMoVfv6z"
      },
      "execution_count": null,
      "outputs": []
    },
    {
      "cell_type": "code",
      "source": [
        "identificacao('Isabella',23)"
      ],
      "metadata": {
        "id": "0fT9s4_7hM3A"
      },
      "execution_count": null,
      "outputs": []
    },
    {
      "cell_type": "code",
      "source": [
        "def maior (x,y):\n",
        "  if x<y:\n",
        "    print('O maior numero é ', y)\n",
        "  elif x>y:\n",
        "    print(\"o maior numero é:\", x)\n",
        "  else:\n",
        "    print(\"Os numeros são iguais\")"
      ],
      "metadata": {
        "id": "2RnaTTDkhTVl"
      },
      "execution_count": null,
      "outputs": []
    },
    {
      "cell_type": "code",
      "source": [
        "maior(26,26)"
      ],
      "metadata": {
        "id": "-J52pe4YiC3F"
      },
      "execution_count": null,
      "outputs": []
    },
    {
      "cell_type": "code",
      "source": [
        "def pitagoras (cat1, cat2, hip):\n",
        "  if hip ==\"?\":\n",
        "    hip = (cat1**2 + cat2**2)**(1/2)\n",
        "    print (\"A hipotenusa é\", cat1)\n",
        "  elif cat1 ==\"?\":\n",
        "    cat1 = (hip**2 - cat2**2)**(1/2)\n",
        "    print (\"O cateto é\", cat1)\n",
        "  elif cat2 ==\"?\":\n",
        "    cat2 = (hip**2 - cat1**2)**(1/2)\n",
        "    print (\"O cateto é\", cat2)"
      ],
      "metadata": {
        "id": "U6xSTaM5iFsn"
      },
      "execution_count": null,
      "outputs": []
    },
    {
      "cell_type": "code",
      "source": [
        "#pitagoras (cat1, cat2, hip)\n",
        "pitagoras(3,4,\"?\")"
      ],
      "metadata": {
        "id": "SVnpfa1PjAa6"
      },
      "execution_count": null,
      "outputs": []
    },
    {
      "cell_type": "markdown",
      "source": [
        "# Função lambda e map"
      ],
      "metadata": {
        "id": "gD49xhj-vxMh"
      }
    },
    {
      "cell_type": "code",
      "source": [
        "def area_quadrado (l):\n",
        "  area = l**2\n",
        "  print (\"Area do quadrado é\", area)"
      ],
      "metadata": {
        "id": "px5-NXpRv2Ac"
      },
      "execution_count": null,
      "outputs": []
    },
    {
      "cell_type": "code",
      "source": [
        "area_quadrado (5)"
      ],
      "metadata": {
        "id": "PZPaWPkJwAUT"
      },
      "execution_count": null,
      "outputs": []
    },
    {
      "cell_type": "code",
      "source": [
        "area_quadrado2 = lambda x: x**2"
      ],
      "metadata": {
        "id": "BUinFdsmwEam"
      },
      "execution_count": null,
      "outputs": []
    },
    {
      "cell_type": "code",
      "source": [
        "area_quadrado2(7)"
      ],
      "metadata": {
        "id": "qF9nADgEwJt0"
      },
      "execution_count": null,
      "outputs": []
    },
    {
      "cell_type": "code",
      "source": [
        "area_retangulo = lambda b,h: b*h "
      ],
      "metadata": {
        "id": "nAFloUbfwOsq"
      },
      "execution_count": null,
      "outputs": []
    },
    {
      "cell_type": "code",
      "source": [
        "area_retangulo(5,3)"
      ],
      "metadata": {
        "id": "wbFhK8SRwWtu"
      },
      "execution_count": null,
      "outputs": []
    },
    {
      "cell_type": "code",
      "source": [
        "#uma vantaggem é quando se utiliza juntamente com outros metodos\n",
        "#map faz essa junção\n",
        "\n",
        "L = [4,3,6,8,4,3,11,5]\n",
        "area = list(map(lambda x: x**2,L))\n",
        "print(area)"
      ],
      "metadata": {
        "id": "e_WO0bHIwaht"
      },
      "execution_count": null,
      "outputs": []
    },
    {
      "cell_type": "markdown",
      "source": [
        "# List Comprehensions"
      ],
      "metadata": {
        "id": "-JsxwBnzxVik"
      }
    },
    {
      "cell_type": "code",
      "source": [
        "lista=[]\n",
        "for valor in range(5):\n",
        "  lista.append(valor+10)\n",
        "print(lista)"
      ],
      "metadata": {
        "id": "S38x1DuQxZpN"
      },
      "execution_count": null,
      "outputs": []
    },
    {
      "cell_type": "code",
      "source": [
        "lista = [valor+10 for valor in range(5)]\n",
        "print (lista)"
      ],
      "metadata": {
        "id": "Xq-CQe41yqrE"
      },
      "execution_count": null,
      "outputs": []
    },
    {
      "cell_type": "code",
      "source": [
        "lista=[]\n",
        "for valor in range(1,30):\n",
        "  if valor % 4==0:\n",
        "    lista.append(valor)\n",
        "print(lista)"
      ],
      "metadata": {
        "id": "MH7bSb03yxs2"
      },
      "execution_count": null,
      "outputs": []
    },
    {
      "cell_type": "code",
      "source": [
        "multiplos4 = [valor for valor in range(1,30) if valor % 4==0]\n",
        "print(lista)"
      ],
      "metadata": {
        "id": "3AjBgC6TzC4H"
      },
      "execution_count": null,
      "outputs": []
    },
    {
      "cell_type": "code",
      "source": [
        "conceito = ['azul' if nota >= 6 else 'vermelha' for nota in range (1,11)]\n",
        "print (conceito)"
      ],
      "metadata": {
        "id": "6vqg48o5zQHc"
      },
      "execution_count": null,
      "outputs": []
    },
    {
      "cell_type": "markdown",
      "source": [
        "# Vetore e matrizes"
      ],
      "metadata": {
        "id": "5REmZWkPzrS8"
      }
    },
    {
      "cell_type": "code",
      "source": [
        "vetor = [2,4,6,8]"
      ],
      "metadata": {
        "id": "MTJO5evtzuzm"
      },
      "execution_count": 34,
      "outputs": []
    },
    {
      "cell_type": "code",
      "source": [
        "type(vetor)"
      ],
      "metadata": {
        "colab": {
          "base_uri": "https://localhost:8080/"
        },
        "id": "N_8KQ26x0VEK",
        "outputId": "32f21ad0-17b8-4c1c-acc0-d2edb2bd291b"
      },
      "execution_count": 35,
      "outputs": [
        {
          "output_type": "execute_result",
          "data": {
            "text/plain": [
              "list"
            ]
          },
          "metadata": {},
          "execution_count": 35
        }
      ]
    },
    {
      "cell_type": "code",
      "source": [
        "matriz = [[1,2,3],\n",
        "          [4,5,6,],\n",
        "          [7,8,9]]\n",
        "print (matriz)"
      ],
      "metadata": {
        "colab": {
          "base_uri": "https://localhost:8080/"
        },
        "id": "2u_AUP_G0Xmz",
        "outputId": "6058bf56-226f-4281-fbf6-3e154b9b0264"
      },
      "execution_count": 38,
      "outputs": [
        {
          "output_type": "stream",
          "name": "stdout",
          "text": [
            "[[1, 2, 3], [4, 5, 6], [7, 8, 9]]\n"
          ]
        }
      ]
    },
    {
      "cell_type": "code",
      "source": [
        "import numpy as np\n",
        "#as np é um apelido para a biblioteca"
      ],
      "metadata": {
        "id": "qkCqwfei0h6d"
      },
      "execution_count": 39,
      "outputs": []
    },
    {
      "cell_type": "code",
      "source": [
        "vetor2 = np.array([1,-3,6,-4.5])"
      ],
      "metadata": {
        "id": "Le3rm8b10rVC"
      },
      "execution_count": 40,
      "outputs": []
    },
    {
      "cell_type": "code",
      "source": [
        "type(vetor2)\n",
        "#agora virou vetor"
      ],
      "metadata": {
        "colab": {
          "base_uri": "https://localhost:8080/"
        },
        "id": "4jVzgec507VX",
        "outputId": "d2e42adf-da8e-49f8-c756-fffcce89d543"
      },
      "execution_count": 41,
      "outputs": [
        {
          "output_type": "execute_result",
          "data": {
            "text/plain": [
              "numpy.ndarray"
            ]
          },
          "metadata": {},
          "execution_count": 41
        }
      ]
    },
    {
      "cell_type": "code",
      "source": [
        "matriz2 = np.ones((2,3)) #duas linhas e 3 colunas\n",
        "matriz2"
      ],
      "metadata": {
        "colab": {
          "base_uri": "https://localhost:8080/"
        },
        "id": "PryECPbh1AHV",
        "outputId": "df40d903-e7ea-49e0-ea96-9766f8ef672f"
      },
      "execution_count": 45,
      "outputs": [
        {
          "output_type": "execute_result",
          "data": {
            "text/plain": [
              "array([[1., 1., 1.],\n",
              "       [1., 1., 1.]])"
            ]
          },
          "metadata": {},
          "execution_count": 45
        }
      ]
    },
    {
      "cell_type": "code",
      "source": [
        "type(matriz2)"
      ],
      "metadata": {
        "colab": {
          "base_uri": "https://localhost:8080/"
        },
        "id": "6aUNi2i71NpI",
        "outputId": "af16cbc2-9489-47db-81d3-989d545ff135"
      },
      "execution_count": 44,
      "outputs": [
        {
          "output_type": "execute_result",
          "data": {
            "text/plain": [
              "numpy.ndarray"
            ]
          },
          "metadata": {},
          "execution_count": 44
        }
      ]
    },
    {
      "cell_type": "code",
      "source": [
        "matriz3 = np.diag((2,4,6,8,10))\n",
        "matriz3"
      ],
      "metadata": {
        "colab": {
          "base_uri": "https://localhost:8080/"
        },
        "id": "08uvFVxf1Pak",
        "outputId": "7482a532-936b-40d9-8a01-abcb3c475e4d"
      },
      "execution_count": 46,
      "outputs": [
        {
          "output_type": "execute_result",
          "data": {
            "text/plain": [
              "array([[ 2,  0,  0,  0,  0],\n",
              "       [ 0,  4,  0,  0,  0],\n",
              "       [ 0,  0,  6,  0,  0],\n",
              "       [ 0,  0,  0,  8,  0],\n",
              "       [ 0,  0,  0,  0, 10]])"
            ]
          },
          "metadata": {},
          "execution_count": 46
        }
      ]
    },
    {
      "cell_type": "code",
      "source": [
        "type(matriz3)"
      ],
      "metadata": {
        "colab": {
          "base_uri": "https://localhost:8080/"
        },
        "id": "Y46Hf8Gb1YhC",
        "outputId": "41f5a3fc-2162-46cb-9b99-f8929c5b263d"
      },
      "execution_count": 47,
      "outputs": [
        {
          "output_type": "execute_result",
          "data": {
            "text/plain": [
              "numpy.ndarray"
            ]
          },
          "metadata": {},
          "execution_count": 47
        }
      ]
    }
  ]
}