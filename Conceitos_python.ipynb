{
  "nbformat": 4,
  "nbformat_minor": 0,
  "metadata": {
    "colab": {
      "name": "Conceitos_python.ipynb",
      "provenance": [],
      "toc_visible": true,
      "collapsed_sections": [
        "mKwi-uwJ86q7"
      ],
      "authorship_tag": "ABX9TyN7SkryKdOICCSD3YJyzjeW",
      "include_colab_link": true
    },
    "kernelspec": {
      "name": "python3",
      "display_name": "Python 3"
    },
    "language_info": {
      "name": "python"
    }
  },
  "cells": [
    {
      "cell_type": "markdown",
      "metadata": {
        "id": "view-in-github",
        "colab_type": "text"
      },
      "source": [
        "<a href=\"https://colab.research.google.com/github/isaacunha/EstudosPython/blob/main/Conceitos_python.ipynb\" target=\"_parent\"><img src=\"https://colab.research.google.com/assets/colab-badge.svg\" alt=\"Open In Colab\"/></a>"
      ]
    },
    {
      "cell_type": "markdown",
      "source": [
        "# Introdução"
      ],
      "metadata": {
        "id": "7BXO7sYFKNLv"
      }
    },
    {
      "cell_type": "markdown",
      "source": [
        "**Introdução**\n"
      ],
      "metadata": {
        "id": "PIKZY3PdJyZz"
      }
    },
    {
      "cell_type": "code",
      "execution_count": null,
      "metadata": {
        "id": "87ybjCMrJT2b"
      },
      "outputs": [],
      "source": [
        "print (\"olá mundo\")"
      ]
    },
    {
      "cell_type": "code",
      "source": [
        "mensagem = \"olá mundo\""
      ],
      "metadata": {
        "id": "jJF9NvuzKOMT"
      },
      "execution_count": null,
      "outputs": []
    },
    {
      "cell_type": "code",
      "source": [
        "mensagem"
      ],
      "metadata": {
        "id": "qLbI_9zbKfFQ"
      },
      "execution_count": null,
      "outputs": []
    },
    {
      "cell_type": "code",
      "source": [
        "nome = input (\"Qual o seu nome?\")\n",
        "nome"
      ],
      "metadata": {
        "id": "bLm7wB4xKm7r"
      },
      "execution_count": null,
      "outputs": []
    },
    {
      "cell_type": "code",
      "source": [
        "horas = input(\"Quantas horas voce dormiu hoje?\")\n",
        "print (\"Eu dormi:\", horas, \"horas\")"
      ],
      "metadata": {
        "id": "l_LG62HJK8nL"
      },
      "execution_count": null,
      "outputs": []
    },
    {
      "cell_type": "markdown",
      "source": [
        "# Operadores matemáticos"
      ],
      "metadata": {
        "id": "IL54kVZpL-Yd"
      }
    },
    {
      "cell_type": "code",
      "source": [
        "n1 = 5\n",
        "n2 = 2\n",
        "s = n1 + n2\n",
        "print (s)"
      ],
      "metadata": {
        "id": "9cS2Z35nMCpI"
      },
      "execution_count": null,
      "outputs": []
    },
    {
      "cell_type": "code",
      "source": [
        "s = s + n1\n",
        "print (s)\n",
        "\n",
        "s += n1\n",
        "print (s)"
      ],
      "metadata": {
        "id": "gH96151DMLvj"
      },
      "execution_count": null,
      "outputs": []
    },
    {
      "cell_type": "code",
      "source": [
        "sub = n1 - n2\n",
        "print (\"A subtração entre\", n1, \"e\", n2, \"é\", sub)\n",
        "\n",
        "mult = n1*n2\n",
        "print (\"A multiplicação entre\", n1, \"e\", n2, \"é\", mult)\n",
        "\n",
        "div = n1/n2\n",
        "print (\"A divisão entre\", n1, \"e\", n2, \"é\", div)\n",
        "\n",
        "pot = n1**n2\n",
        "print (n1, \"elevado a\", n2, \"é\", pot)\n",
        "\n",
        "pot2 = pow(n1,n2)\n",
        "print (n1, \"elevado a\", n2, \"é\", pot2)\n",
        "\n",
        "divisaoInteira = n1//n2\n",
        "print (\"A divisão inteira entre\", n1, \"e\", n2, \"é\", divisaoInteira)\n",
        "\n",
        "divisaoResto = n1 % n2\n",
        "print (\"O resto da divisão entre\", n1, \"e\", n2, \"é\", divisaoResto)"
      ],
      "metadata": {
        "id": "NoxyhSSlMaMd"
      },
      "execution_count": null,
      "outputs": []
    },
    {
      "cell_type": "markdown",
      "source": [
        "# Importaçoes de biblioteca"
      ],
      "metadata": {
        "id": "Zq-3W4-5Q61i"
      }
    },
    {
      "cell_type": "code",
      "source": [
        "import math"
      ],
      "metadata": {
        "id": "lqWSNP6iRD9D"
      },
      "execution_count": null,
      "outputs": []
    },
    {
      "cell_type": "code",
      "source": [
        "n = 18\n",
        "raiz = math.sqrt(n)\n",
        "print (\"A raiz de {} é {:.2f}\". format(n, raiz))\n",
        "print (raiz)"
      ],
      "metadata": {
        "id": "8u2YnQ-iRIXp"
      },
      "execution_count": null,
      "outputs": []
    },
    {
      "cell_type": "code",
      "source": [
        "raiz2 = n**0.5\n",
        "print(raiz2)\n",
        "print (\"{:.3f}\".format(raiz2))"
      ],
      "metadata": {
        "id": "3w70D0c8WFbQ"
      },
      "execution_count": null,
      "outputs": []
    },
    {
      "cell_type": "code",
      "source": [
        "from math import sqrt\n",
        "raiz3 =  sqrt(4)\n",
        "print(raiz3)"
      ],
      "metadata": {
        "id": "OlaSvlNwWiiY"
      },
      "execution_count": null,
      "outputs": []
    },
    {
      "cell_type": "code",
      "source": [
        "from math import sqrt, factorial\n",
        "# Fatorial 5! = 5*4*3*2*1 = 120\n",
        "\n",
        "fat = factorial(5)\n",
        "print (\"Fatorial de {} é \",fat)\n",
        "\n",
        "fatorial_raiz = factorial(sqrt(16))\n",
        "print(fatorial_raiz)\n"
      ],
      "metadata": {
        "id": "9eRMRkBRWySS"
      },
      "execution_count": null,
      "outputs": []
    },
    {
      "cell_type": "code",
      "source": [
        "import random\n",
        "num = random.randint (1,100)\n",
        "print (num)"
      ],
      "metadata": {
        "id": "rFBizhvJXe5Z"
      },
      "execution_count": null,
      "outputs": []
    },
    {
      "cell_type": "code",
      "source": [
        "from random import random, randint\n",
        "#Para saber o que faz é colocar \"random?\"\n"
      ],
      "metadata": {
        "id": "HLjz71u0X75d"
      },
      "execution_count": null,
      "outputs": []
    },
    {
      "cell_type": "code",
      "source": [
        "random.gauss?"
      ],
      "metadata": {
        "id": "vpd8tXX4YSps"
      },
      "execution_count": null,
      "outputs": []
    },
    {
      "cell_type": "markdown",
      "source": [
        "# Estrutura Condicional"
      ],
      "metadata": {
        "id": "WSTAbmeX79O-"
      }
    },
    {
      "cell_type": "code",
      "source": [
        "nota = 2\n",
        "\n",
        "if nota >= 6:\n",
        "  print ('Aprovado!')\n",
        "else:\n",
        "  print(\"Reprovado\")"
      ],
      "metadata": {
        "id": "2zHcHlWl8DA0"
      },
      "execution_count": null,
      "outputs": []
    },
    {
      "cell_type": "code",
      "source": [
        "if nota >= 6:\n",
        "  print('Aprovado')\n",
        "elif nota >= 5 and nota < 6:\n",
        "  print (\"Recuperacao\")\n",
        "else:\n",
        "  print('Reprovado')"
      ],
      "metadata": {
        "id": "bjieluzY8YH5"
      },
      "execution_count": null,
      "outputs": []
    },
    {
      "cell_type": "markdown",
      "source": [
        "# Estrutura de Repetição"
      ],
      "metadata": {
        "id": "mKwi-uwJ86q7"
      }
    },
    {
      "cell_type": "code",
      "source": [
        "for c in range(0,4):\n",
        "  print (c)"
      ],
      "metadata": {
        "id": "iwlPgy28-DVu",
        "colab": {
          "base_uri": "https://localhost:8080/"
        },
        "outputId": "4f92cd58-8674-4288-c4af-6f39fdfb2b4a"
      },
      "execution_count": null,
      "outputs": [
        {
          "output_type": "stream",
          "name": "stdout",
          "text": [
            "0\n",
            "1\n",
            "2\n",
            "3\n"
          ]
        }
      ]
    },
    {
      "cell_type": "code",
      "source": [
        "lista = [1, 2, 3, 4, 5]\n",
        "for numero in lista:\n",
        "  mult = numero *2\n",
        "  print (mult)"
      ],
      "metadata": {
        "colab": {
          "base_uri": "https://localhost:8080/"
        },
        "id": "NOsR3dNZ5lKG",
        "outputId": "6e8fe4dd-476f-4ccc-aed5-30db402b0c20"
      },
      "execution_count": null,
      "outputs": [
        {
          "output_type": "stream",
          "name": "stdout",
          "text": [
            "2\n",
            "4\n",
            "6\n",
            "8\n",
            "10\n"
          ]
        }
      ]
    },
    {
      "cell_type": "code",
      "source": [
        "soma = 0\n",
        "cont = 0\n",
        "for c in range (1,6):\n",
        "  num = int (input ('digite o {}º valor: '. format(c)))\n",
        "  if (num % 2 ==0):\n",
        "    soma = soma + num\n",
        "    cont = cont +1\n",
        "print (\"voce informou {} numeros pares e a soma deles é igual {}\". format(cont, soma))"
      ],
      "metadata": {
        "colab": {
          "base_uri": "https://localhost:8080/"
        },
        "id": "-ZTU8S-w7AJ1",
        "outputId": "d0a2b1a7-3a16-43d3-e4f1-92815aac24b4"
      },
      "execution_count": null,
      "outputs": [
        {
          "output_type": "stream",
          "name": "stdout",
          "text": [
            "digite o 1º valor: 2\n",
            "digite o 2º valor: 5\n",
            "digite o 3º valor: 3\n",
            "digite o 4º valor: 1\n",
            "digite o 5º valor: 5\n",
            "voce informou 1 numeros pares e a sola deles é igual 2\n"
          ]
        }
      ]
    },
    {
      "cell_type": "code",
      "source": [
        "c = 1\n",
        "while c<10:\n",
        "  s=c+10\n",
        "  print(s)\n",
        "  c = c+1\n",
        "  print (c)\n",
        "print(\"fim\")\n"
      ],
      "metadata": {
        "colab": {
          "base_uri": "https://localhost:8080/"
        },
        "id": "pK_qF6t88WIi",
        "outputId": "ac757be0-0311-40b4-bc96-3e07cb109227"
      },
      "execution_count": null,
      "outputs": [
        {
          "output_type": "stream",
          "name": "stdout",
          "text": [
            "11\n",
            "2\n",
            "12\n",
            "3\n",
            "13\n",
            "4\n",
            "14\n",
            "5\n",
            "15\n",
            "6\n",
            "16\n",
            "7\n",
            "17\n",
            "8\n",
            "18\n",
            "9\n",
            "19\n",
            "10\n",
            "fim\n"
          ]
        }
      ]
    },
    {
      "cell_type": "markdown",
      "source": [
        "# Lista, Tuplas e Dicionarios"
      ],
      "metadata": {
        "id": "O34uo4yh9yUd"
      }
    },
    {
      "cell_type": "code",
      "source": [
        "#Lista[]\n",
        "#Tuplas()\n",
        "#Diconarios{}"
      ],
      "metadata": {
        "id": "fzrkg17R934b"
      },
      "execution_count": null,
      "outputs": []
    },
    {
      "cell_type": "code",
      "source": [
        "num = [2, 3, 2, 6, 4]\n",
        "\n",
        "num[3] = 4\n",
        "\n",
        "print(num)\n"
      ],
      "metadata": {
        "colab": {
          "base_uri": "https://localhost:8080/"
        },
        "id": "lr9RWo3u-Bgx",
        "outputId": "5a354ead-e88e-479b-8c6d-9311c19d08ae"
      },
      "execution_count": null,
      "outputs": [
        {
          "output_type": "stream",
          "name": "stdout",
          "text": [
            "[2, 3, 2, 4, 4]\n"
          ]
        }
      ]
    },
    {
      "cell_type": "code",
      "source": [
        "num.append(8) #inclui o numero 8 a proxima posição\n",
        "num"
      ],
      "metadata": {
        "colab": {
          "base_uri": "https://localhost:8080/"
        },
        "id": "CZctZWAH-gi7",
        "outputId": "90f8c3a0-2d2b-42c7-c47e-733d329c16f8"
      },
      "execution_count": null,
      "outputs": [
        {
          "output_type": "execute_result",
          "data": {
            "text/plain": [
              "[2, 3, 2, 4, 4, 8]"
            ]
          },
          "metadata": {},
          "execution_count": 13
        }
      ]
    },
    {
      "cell_type": "code",
      "source": [
        "num.sort() #ordem crescente \n",
        "num"
      ],
      "metadata": {
        "colab": {
          "base_uri": "https://localhost:8080/"
        },
        "id": "9c28Mvy1-oY0",
        "outputId": "0a889803-cedc-4267-ff01-4bb3cd713747"
      },
      "execution_count": null,
      "outputs": [
        {
          "output_type": "execute_result",
          "data": {
            "text/plain": [
              "[0, 2, 2, 4, 8]"
            ]
          },
          "metadata": {},
          "execution_count": 15
        }
      ]
    },
    {
      "cell_type": "code",
      "source": [
        "num.insert(2,0) #adiona o zero na posicao 2\n",
        "num"
      ],
      "metadata": {
        "colab": {
          "base_uri": "https://localhost:8080/"
        },
        "id": "Ilgb4qpw_Uu5",
        "outputId": "a1515818-0a03-4ab3-ed3a-d0c8bd26571d"
      },
      "execution_count": null,
      "outputs": [
        {
          "output_type": "execute_result",
          "data": {
            "text/plain": [
              "[0, 2, 0, 2, 4, 8]"
            ]
          },
          "metadata": {},
          "execution_count": 16
        }
      ]
    },
    {
      "cell_type": "code",
      "source": [
        "num.remove(4) #remove o numero 4 da lista\n",
        "num"
      ],
      "metadata": {
        "colab": {
          "base_uri": "https://localhost:8080/"
        },
        "id": "o9gZnOCk_X-z",
        "outputId": "6cbc8d19-f12b-4d6e-c0b8-5dd1582f487b"
      },
      "execution_count": null,
      "outputs": [
        {
          "output_type": "execute_result",
          "data": {
            "text/plain": [
              "[0, 2, 0, 2, 8]"
            ]
          },
          "metadata": {},
          "execution_count": 20
        }
      ]
    },
    {
      "cell_type": "code",
      "source": [
        "num.pop(3) #remove o elemento na posicao 3\n",
        "num"
      ],
      "metadata": {
        "colab": {
          "base_uri": "https://localhost:8080/"
        },
        "id": "A6Xw7jYg_q64",
        "outputId": "68a9b613-fed3-40d6-bb8a-f53efe45b271"
      },
      "execution_count": null,
      "outputs": [
        {
          "output_type": "execute_result",
          "data": {
            "text/plain": [
              "[0, 2, 0, 8]"
            ]
          },
          "metadata": {},
          "execution_count": 21
        }
      ]
    },
    {
      "cell_type": "code",
      "source": [
        "#Tuplas são imutaveis, não da pra modificar igual a lista com delete, insert etc\n",
        "\n",
        "num2 = (2, 5, 7, 9)"
      ],
      "metadata": {
        "id": "Vgd8i3E7_vbX"
      },
      "execution_count": null,
      "outputs": []
    },
    {
      "cell_type": "code",
      "source": [
        "#Dicionarios\n",
        "\n",
        "pessoas = {'nome': 'Isabella', 'sexo': 'feminino', 'idade': 23}\n",
        "\n",
        "print (pessoas)\n",
        "\n"
      ],
      "metadata": {
        "colab": {
          "base_uri": "https://localhost:8080/"
        },
        "id": "8wUjB6Wd_7KR",
        "outputId": "6925ceda-751f-4fe6-af3a-955094a8c6ec"
      },
      "execution_count": null,
      "outputs": [
        {
          "output_type": "stream",
          "name": "stdout",
          "text": [
            "{'nome': 'Isabella', 'sexo': 'feminino', 'idade': 23}\n"
          ]
        }
      ]
    },
    {
      "cell_type": "code",
      "source": [
        "pessoas['hobbie'] = 'ler'\n",
        "print (pessoas)"
      ],
      "metadata": {
        "colab": {
          "base_uri": "https://localhost:8080/"
        },
        "id": "Drze65EwAWVo",
        "outputId": "d0c32af4-e11c-4b08-9e8c-268da92f13fc"
      },
      "execution_count": null,
      "outputs": [
        {
          "output_type": "stream",
          "name": "stdout",
          "text": [
            "{'nome': 'Isabella', 'sexo': 'feminino', 'idade': 23, 'hobbie': 'ler'}\n"
          ]
        }
      ]
    },
    {
      "cell_type": "code",
      "source": [
        "del pessoas ['idade']\n",
        "print(pessoas)"
      ],
      "metadata": {
        "colab": {
          "base_uri": "https://localhost:8080/"
        },
        "id": "ZEeQRHdWAhsB",
        "outputId": "f2c07f57-44f4-47f5-f01f-532e7d8e49eb"
      },
      "execution_count": null,
      "outputs": [
        {
          "output_type": "stream",
          "name": "stdout",
          "text": [
            "{'nome': 'Isabella', 'sexo': 'feminino', 'hobbie': 'ler'}\n"
          ]
        }
      ]
    }
  ]
}